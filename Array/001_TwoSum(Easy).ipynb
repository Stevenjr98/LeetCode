{
  "nbformat": 4,
  "nbformat_minor": 0,
  "metadata": {
    "colab": {
      "name": "001_TwoSum.ipynb",
      "provenance": [],
      "collapsed_sections": [],
      "authorship_tag": "ABX9TyMHRPjRaZBLJruPDwwabaFy",
      "include_colab_link": true
    },
    "kernelspec": {
      "name": "python3",
      "display_name": "Python 3"
    },
    "language_info": {
      "name": "python"
    }
  },
  "cells": [
    {
      "cell_type": "markdown",
      "metadata": {
        "id": "view-in-github",
        "colab_type": "text"
      },
      "source": [
        "<a href=\"https://colab.research.google.com/github/Stevenjr98/LeetCode/blob/main/Array/001_TwoSum.ipynb\" target=\"_parent\"><img src=\"https://colab.research.google.com/assets/colab-badge.svg\" alt=\"Open In Colab\"/></a>"
      ]
    },
    {
      "cell_type": "code",
      "execution_count": null,
      "metadata": {
        "id": "jn_YBz8Vio2I"
      },
      "outputs": [],
      "source": [
        "# Given an array of integers nums and an integer target, return indices of the two numbers such that they add up to target.\n",
        "# You may assume that each input would have exactly one solution, and you may not use the same element twice.\n",
        "# You can return the answer in any order.\n",
        "# Input: nums = [2,7,11,15], target = 9\n",
        "# Output: [0,1]\n",
        "# Explanation: Because nums[0] + nums[1] == 9, we return [0, 1]."
      ]
    },
    {
      "cell_type": "code",
      "source": [
        "#1: work it out directly\n",
        "def twoSum(nums,target):\n",
        "      # result \n",
        "      result = []\n",
        "      # first pointer\n",
        "      for i in range(0,len(nums)):\n",
        "        # second pointer \n",
        "        for j in range(i+1,len(nums)):\n",
        "          sum = nums[i] + nums[j]\n",
        "          print(sum)\n",
        "          # return result if sum == target\n",
        "          if sum == target:\n",
        "            result = [i,j]\n",
        "      return result  "
      ],
      "metadata": {
        "id": "20U8xE5Sm94c"
      },
      "execution_count": null,
      "outputs": []
    },
    {
      "cell_type": "code",
      "source": [
        "twoSum([3,2,4],6)"
      ],
      "metadata": {
        "id": "vmX70rmrnFJG"
      },
      "execution_count": null,
      "outputs": []
    },
    {
      "cell_type": "code",
      "source": [
        "#2: hash map(low runtime, high memory used)\n",
        "def twoSum(nums,target):\n",
        "  map = {}\n",
        "  for i,j in enumerate(nums):\n",
        "    diff = target - j\n",
        "    if diff in map:\n",
        "      return [map[diff],i]\n",
        "  map[j] = i\n",
        "    "
      ],
      "metadata": {
        "id": "CHVvby1rsJqP"
      },
      "execution_count": 1,
      "outputs": []
    },
    {
      "cell_type": "markdown",
      "source": [
        "执行用时： 28 ms , 在所有 Python3 提交中击败了 98.18% 的用户\n",
        "\n",
        "内存消耗： 16.1 MB , 在所有 Python3 提交中击败了 15.67% 的用户\n",
        "\n",
        "通过测试用例： 57 / 57"
      ],
      "metadata": {
        "id": "5U6z0pHNvvBH"
      }
    }
  ]
}
