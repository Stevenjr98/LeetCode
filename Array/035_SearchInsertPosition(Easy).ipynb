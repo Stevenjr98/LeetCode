{
  "nbformat": 4,
  "nbformat_minor": 0,
  "metadata": {
    "colab": {
      "name": "035_SearchInsertPosition(Easy).ipynb",
      "provenance": [],
      "collapsed_sections": [],
      "authorship_tag": "ABX9TyO1cWbFE68S591wpvKW2ULA",
      "include_colab_link": true
    },
    "kernelspec": {
      "name": "python3",
      "display_name": "Python 3"
    },
    "language_info": {
      "name": "python"
    }
  },
  "cells": [
    {
      "cell_type": "markdown",
      "metadata": {
        "id": "view-in-github",
        "colab_type": "text"
      },
      "source": [
        "<a href=\"https://colab.research.google.com/github/Stevenjr98/LeetCode/blob/main/Array/035_SearchInsertPosition(Easy).ipynb\" target=\"_parent\"><img src=\"https://colab.research.google.com/assets/colab-badge.svg\" alt=\"Open In Colab\"/></a>"
      ]
    },
    {
      "cell_type": "code",
      "execution_count": null,
      "metadata": {
        "id": "1AKDwLDCyo9_"
      },
      "outputs": [],
      "source": [
        "# 给定一个排序数组和一个目标值，在数组中找到目标值，并返回其索引。如果目标值不存在于数组中，返回它将会被按顺序插入的位置。\n",
        "\n",
        "# 请必须使用时间复杂度为 O(log n) 的算法。\n",
        "\n",
        "# 思路：只返回idx， 在target存在于list的情况下，返回其在list中的idx即可。\n",
        "# 如果不在list中的话， 和i位置上的元素比较，idx非0情况下，比num[i]大的话插在右边。 0的时候，就是第一个，所以直接返回0."
      ]
    },
    {
      "cell_type": "code",
      "source": [
        "class Solution(object):\n",
        "    def searchInsert(self, nums, target):\n",
        "      n = len(nums)\n",
        "      for i in range(n-1,-1,-1):\n",
        "        if nums[i] == target:\n",
        "            return i\n",
        "        elif target > nums[i]:\n",
        "            return i+1\n",
        "        elif target < nums[i] and i == 0:\n",
        "            return i"
      ],
      "metadata": {
        "id": "jj3I46bTytN-"
      },
      "execution_count": null,
      "outputs": []
    }
  ]
}