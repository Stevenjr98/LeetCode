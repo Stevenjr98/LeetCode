{
  "nbformat": 4,
  "nbformat_minor": 0,
  "metadata": {
    "colab": {
      "name": "026_DropDuplicateElements(Easy).ipynb",
      "provenance": [],
      "collapsed_sections": [],
      "authorship_tag": "ABX9TyNhmMwJDXO1I+okJmbnxRwK",
      "include_colab_link": true
    },
    "kernelspec": {
      "name": "python3",
      "display_name": "Python 3"
    },
    "language_info": {
      "name": "python"
    }
  },
  "cells": [
    {
      "cell_type": "markdown",
      "metadata": {
        "id": "view-in-github",
        "colab_type": "text"
      },
      "source": [
        "<a href=\"https://colab.research.google.com/github/Stevenjr98/LeetCode/blob/main/Array/026_DropDuplicateElements(Easy).ipynb\" target=\"_parent\"><img src=\"https://colab.research.google.com/assets/colab-badge.svg\" alt=\"Open In Colab\"/></a>"
      ]
    },
    {
      "cell_type": "code",
      "source": [
        "# 给你一个 升序排列 的数组 nums ，请你 原地 删除重复出现的元素，使每个元素 只出现一次 ，返回删除后数组的新长度。元素的 相对顺序 应该保持 一致 。\n",
        "\n",
        "# 由于在某些语言中不能改变数组的长度，所以必须将结果放在数组nums的第一部分。更规范地说，如果在删除重复项之后有 k 个元素，那么 nums 的前 k 个元素应该保存最终结果。\n",
        "\n",
        "# 将最终结果插入 nums 的前 k 个位置后返回 k 。\n",
        "\n",
        "# 不要使用额外的空间，你必须在 原地 修改输入数组 并在使用 O(1) 额外空间的条件下完成。"
      ],
      "metadata": {
        "id": "OYEokxZ7nEw_"
      },
      "execution_count": null,
      "outputs": []
    },
    {
      "cell_type": "code",
      "execution_count": 2,
      "metadata": {
        "id": "Cc5dx--5m3W_"
      },
      "outputs": [],
      "source": [
        "class Solution(object):\n",
        "    def removeDuplicates(self, nums):\n",
        "      n = len(nums) # length of list nums\n",
        "      pop_length = 0 # num of element popped\n",
        "      i = 0 # initialize i \n",
        "      for i in range(n-1,-1,-1): # iterate list from last idx to first idx\n",
        "        if i > 0 and nums[i] == nums[i-1]: # if there they are the same\n",
        "          nums.pop(i) # drop element on nums[i]\n",
        "          pop_length += 1 # add nums of popped elements\n",
        "      return n - pop_length # final list = original list - nums of element popped"
      ]
    }
  ]
}