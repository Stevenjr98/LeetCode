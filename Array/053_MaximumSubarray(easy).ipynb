{
  "nbformat": 4,
  "nbformat_minor": 0,
  "metadata": {
    "colab": {
      "name": "053_MaximumSubarray(easy).ipynb",
      "provenance": [],
      "collapsed_sections": [],
      "authorship_tag": "ABX9TyNp9x3j8ujymkdgNdMXmti3",
      "include_colab_link": true
    },
    "kernelspec": {
      "name": "python3",
      "display_name": "Python 3"
    },
    "language_info": {
      "name": "python"
    }
  },
  "cells": [
    {
      "cell_type": "markdown",
      "metadata": {
        "id": "view-in-github",
        "colab_type": "text"
      },
      "source": [
        "<a href=\"https://colab.research.google.com/github/Stevenjr98/LeetCode/blob/main/Array/053_MaximumSubarray(easy).ipynb\" target=\"_parent\"><img src=\"https://colab.research.google.com/assets/colab-badge.svg\" alt=\"Open In Colab\"/></a>"
      ]
    },
    {
      "cell_type": "markdown",
      "source": [
        "给你一个整数数组 nums ，请你找出一个具有最大和的连续子数组（子数组最少包含一个元素），返回其最大和。\n",
        "\n",
        "子数组 是数组中的一个连续部分。\n",
        "\n",
        "https://blog.csdn.net/Quincuntial/article/details/119147304"
      ],
      "metadata": {
        "id": "CQdC2YPPIH34"
      }
    },
    {
      "cell_type": "code",
      "execution_count": 2,
      "metadata": {
        "id": "ywm3AfudBWGH"
      },
      "outputs": [],
      "source": [
        "class Solution:\n",
        "    def maxSubArray(self, nums):\n",
        "        length = len(nums)\n",
        "        if length == 0: return 0\n",
        "        max_sum = next_sum = nums[0]\n",
        "        for i in range(1, length):\n",
        "            next_sum = max(next_sum + nums[i], nums[i])\n",
        "            max_sum = max(max_sum, next_sum)\n",
        "        return max_sum"
      ]
    },
    {
      "cell_type": "code",
      "source": [
        ""
      ],
      "metadata": {
        "id": "Hl7rdJBlEc6I"
      },
      "execution_count": null,
      "outputs": []
    }
  ]
}