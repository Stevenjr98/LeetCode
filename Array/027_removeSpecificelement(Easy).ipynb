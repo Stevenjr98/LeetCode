{
  "nbformat": 4,
  "nbformat_minor": 0,
  "metadata": {
    "colab": {
      "name": "027_removeSpecificelement(Easy).ipynb",
      "provenance": [],
      "collapsed_sections": [],
      "authorship_tag": "ABX9TyMQOLJufe7RHLGLrAlcz/jO",
      "include_colab_link": true
    },
    "kernelspec": {
      "name": "python3",
      "display_name": "Python 3"
    },
    "language_info": {
      "name": "python"
    }
  },
  "cells": [
    {
      "cell_type": "markdown",
      "metadata": {
        "id": "view-in-github",
        "colab_type": "text"
      },
      "source": [
        "<a href=\"https://colab.research.google.com/github/Stevenjr98/LeetCode/blob/main/Array/027_removeSpecificelement(Easy).ipynb\" target=\"_parent\"><img src=\"https://colab.research.google.com/assets/colab-badge.svg\" alt=\"Open In Colab\"/></a>"
      ]
    },
    {
      "cell_type": "code",
      "execution_count": null,
      "metadata": {
        "id": "HHzEF_cGq_bZ"
      },
      "outputs": [],
      "source": [
        "# 给你一个数组 nums 和一个值 val，你需要 原地 移除所有数值等于 val 的元素，并返回移除后数组的新长度。\n",
        "\n",
        "# 不要使用额外的数组空间，你必须仅使用 O(1) 额外空间并 原地 修改输入数组。\n",
        "\n",
        "# 元素的顺序可以改变。你不需要考虑数组中超出新长度后面的元素。"
      ]
    },
    {
      "cell_type": "code",
      "source": [
        "class Solution(object):\n",
        "    def removeElement(self, nums, val):\n",
        "        n = len(nums)\n",
        "        pop_length = 0\n",
        "        i = 0\n",
        "        for i in range(n-1,-1,-1):\n",
        "          if i > 0 and nums[i] == val:\n",
        "            nums.pop(i)\n",
        "            pop_length += 1\n",
        "        return n - pop_length\n",
        "\n",
        "# 思路： 解法和026差不多，把if条件判断中的n与n-1相等的情况换成n=value即可"
      ],
      "metadata": {
        "id": "pfGH5GXOrWE3"
      },
      "execution_count": 1,
      "outputs": []
    }
  ]
}