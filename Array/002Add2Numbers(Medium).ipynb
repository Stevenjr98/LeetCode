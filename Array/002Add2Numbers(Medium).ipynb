{
  "nbformat": 4,
  "nbformat_minor": 0,
  "metadata": {
    "colab": {
      "name": "002Add2Numbers(Medium).ipynb",
      "provenance": [],
      "collapsed_sections": [],
      "authorship_tag": "ABX9TyN/lrDLopUCnswpMdReQjhJ",
      "include_colab_link": true
    },
    "kernelspec": {
      "name": "python3",
      "display_name": "Python 3"
    },
    "language_info": {
      "name": "python"
    }
  },
  "cells": [
    {
      "cell_type": "markdown",
      "metadata": {
        "id": "view-in-github",
        "colab_type": "text"
      },
      "source": [
        "<a href=\"https://colab.research.google.com/github/Stevenjr98/LeetCode/blob/main/Array/002Add2Numbers(Medium).ipynb\" target=\"_parent\"><img src=\"https://colab.research.google.com/assets/colab-badge.svg\" alt=\"Open In Colab\"/></a>"
      ]
    },
    {
      "cell_type": "code",
      "execution_count": null,
      "metadata": {
        "id": "7LkLXOJNbdTv"
      },
      "outputs": [],
      "source": [
        "# 给你两个 非空 的链表，表示两个非负的整数。它们每位数字都是按照 逆序 的方式存储的，并且每个节点只能存储 一位 数字。\n",
        "\n",
        "# 请你将两个数相加，并以相同形式返回一个表示和的链表。\n",
        "\n",
        "# 你可以假设除了数字 0 之外，这两个数都不会以 0 开头。"
      ]
    },
    {
      "cell_type": "code",
      "source": [
        "# Definition for singly-linked list.\n",
        "class ListNode(object):\n",
        "    def __init__(self, val=0, next=None):\n",
        "        self.val = val\n",
        "        self.next = next\n",
        "class Solution(object):\n",
        "    def addTwoNumbers(self, l1, l2):\n",
        "        head = l = ListNode(0)\n",
        "        l1_cur = l1\n",
        "        l2_cur = l2 \n",
        "        while l1_cur and l2_cur:\n",
        "            val = l1_cur.val + l2_cur.val\n",
        "            l.val += val\n",
        "            if l.val >= 10:\n",
        "                l.val = l.val % 10\n",
        "                l.next = ListNode(1)\n",
        "                l = l.next\n",
        "            else:\n",
        "                if l1_cur.next or l2_cur.next:\n",
        "                    l.next = ListNode(0)\n",
        "                    l = l.next\n",
        "            l1_cur = l1_cur.next\n",
        "            l2_cur = l2_cur.next\n",
        "        \n",
        "        while l1_cur:\n",
        "            l.val += l1_cur.val\n",
        "            if l.val >= 10:\n",
        "                l.val = l.val % 10\n",
        "                l.next = ListNode(1)\n",
        "                l = l.next\n",
        "            else:\n",
        "                if l1_cur.next:\n",
        "                    l.next = ListNode(0)\n",
        "                    l = l.next\n",
        "            l1_cur = l1_cur.next\n",
        "        \n",
        "        while l2_cur:\n",
        "            l.val += l2_cur.val\n",
        "            if l.val >= 10:\n",
        "                l.val = l.val % 10 \n",
        "                l.next = ListNode(1)\n",
        "                l = l.next\n",
        "            else:\n",
        "                if l2_cur.next:\n",
        "                    l.next = ListNode(0)\n",
        "                    l = l.next\n",
        "            l2_cur = l2_cur.next\n",
        "        return head"
      ],
      "metadata": {
        "id": "D1WjWsQjg6GB"
      },
      "execution_count": null,
      "outputs": []
    }
  ]
}