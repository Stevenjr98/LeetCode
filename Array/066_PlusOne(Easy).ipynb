{
  "nbformat": 4,
  "nbformat_minor": 0,
  "metadata": {
    "colab": {
      "name": "066_PlusOne(Easy).ipynb",
      "provenance": [],
      "collapsed_sections": [],
      "authorship_tag": "ABX9TyP2e0BB++yl1AAr8gzHAvXR",
      "include_colab_link": true
    },
    "kernelspec": {
      "name": "python3",
      "display_name": "Python 3"
    },
    "language_info": {
      "name": "python"
    }
  },
  "cells": [
    {
      "cell_type": "markdown",
      "metadata": {
        "id": "view-in-github",
        "colab_type": "text"
      },
      "source": [
        "<a href=\"https://colab.research.google.com/github/Stevenjr98/LeetCode/blob/main/Array/066_PlusOne(Easy).ipynb\" target=\"_parent\"><img src=\"https://colab.research.google.com/assets/colab-badge.svg\" alt=\"Open In Colab\"/></a>"
      ]
    },
    {
      "cell_type": "code",
      "execution_count": null,
      "metadata": {
        "id": "imZc41sNUuJ7"
      },
      "outputs": [],
      "source": [
        "# 给定一个由 整数 组成的 非空 数组所表示的非负整数，在该数的基础上加一。\n",
        "\n",
        "# 最高位数字存放在数组的首位， 数组中每个元素只存储单个数字。\n",
        "\n",
        "# 你可以假设除了整数 0 之外，这个整数不会以零开头。\n",
        "\n",
        "#当不为9时，正常+1， 如果数字是9，则变成0进1位，如果比原数组多一位，再加上1"
      ]
    },
    {
      "cell_type": "code",
      "source": [
        "digits = [9,8,9]\n",
        "i = len(digits) - 1\n",
        "while i >= 0:\n",
        "  # normal plus\n",
        "  if digits[i] < 9:\n",
        "    current = digits[i]\n",
        "    digits[i] = current + 1\n",
        "    break\n",
        "  # when having 9\n",
        "  else:\n",
        "    if i == 0 and digits[i] == 9:\n",
        "      digits[i] = 0\n",
        "      digits.insert(0,0)\n",
        "    else:\n",
        "      digits[i] = 0\n",
        "      i -= 1\n",
        "\n",
        "print(digits)"
      ],
      "metadata": {
        "colab": {
          "base_uri": "https://localhost:8080/"
        },
        "id": "VtOvVcHUU1wl",
        "outputId": "824abf54-189c-423c-8f19-04b2577e37da"
      },
      "execution_count": null,
      "outputs": [
        {
          "output_type": "stream",
          "name": "stdout",
          "text": [
            "[9, 9, 0]\n"
          ]
        }
      ]
    }
  ]
}