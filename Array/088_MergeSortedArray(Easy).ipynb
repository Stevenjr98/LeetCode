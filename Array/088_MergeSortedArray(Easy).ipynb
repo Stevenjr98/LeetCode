{
  "nbformat": 4,
  "nbformat_minor": 0,
  "metadata": {
    "colab": {
      "name": "088_MergeSortedArray(Easy).ipynb",
      "provenance": [],
      "authorship_tag": "ABX9TyOLnmRCBe0oYhm7H3OXXury",
      "include_colab_link": true
    },
    "kernelspec": {
      "name": "python3",
      "display_name": "Python 3"
    },
    "language_info": {
      "name": "python"
    }
  },
  "cells": [
    {
      "cell_type": "markdown",
      "metadata": {
        "id": "view-in-github",
        "colab_type": "text"
      },
      "source": [
        "<a href=\"https://colab.research.google.com/github/Stevenjr98/LeetCode/blob/main/Array/088_MergeSortedArray(Easy).ipynb\" target=\"_parent\"><img src=\"https://colab.research.google.com/assets/colab-badge.svg\" alt=\"Open In Colab\"/></a>"
      ]
    },
    {
      "cell_type": "code",
      "execution_count": null,
      "metadata": {
        "id": "yKZyWi1B-07b"
      },
      "outputs": [],
      "source": [
        "# 给你两个按 非递减顺序 排列的整数数组 nums1 和 nums2，另有两个整数 m 和 n ，分别表示 nums1 和 nums2 中的元素数目。\n",
        "\n",
        "# 请你 合并 nums2 到 nums1 中，使合并后的数组同样按 非递减顺序 排列。\n",
        "\n",
        "# 注意：最终，合并后数组不应由函数返回，而是存储在数组 nums1 中。为了应对这种情况，nums1 的初始长度为 m + n，其中前 m 个元素表示应合并的元素，后 n 个元素为 0 ，应忽略。nums2 的长度为 n 。\n",
        "\n",
        "# 在每个数组的最后一个指定位置判断大小，根据判定的大小放到nums1的最后位置里，然后移动指针，继续判断，直到一个数组先遍历结束。\n",
        "\n",
        "# 如果nums1已经遍历结束了，就要把nums2剩下的元素放到nums1的前面。最后可以确保有序。"
      ]
    },
    {
      "cell_type": "code",
      "source": [
        "class Solution(object):\n",
        "    def merge(self, nums1, m, nums2, n):\n",
        "        \"\"\"\n",
        "        :type nums1: List[int]\n",
        "        :type m: int\n",
        "        :type nums2: List[int]\n",
        "        :type n: int\n",
        "        :rtype: void Do not return anything, modify nums1 in-place instead.\n",
        "        \"\"\"\n",
        "        while m > 0 and n > 0:\n",
        "          if nums1[m-1] > nums2[n-1]:\n",
        "            nums1[m + n -1] = nums1[m-1]\n",
        "            m-=1\n",
        "          else:\n",
        "            num1[m + n -1] = nums2[n-1]\n",
        "            n-=1\n",
        "        nums1[:n] = nums2[:n]\n"
      ],
      "metadata": {
        "id": "Jv_NGZ7cQbfY"
      },
      "execution_count": null,
      "outputs": []
    }
  ]
}